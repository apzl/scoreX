{
  "nbformat": 4,
  "nbformat_minor": 0,
  "metadata": {
    "accelerator": "GPU",
    "colab": {
      "name": "inpainting.ipynb",
      "provenance": [],
      "collapsed_sections": []
    },
    "kernelspec": {
      "display_name": "Python 3",
      "name": "python3"
    },
    "language_info": {
      "name": "python"
    }
  },
  "cells": [
    {
      "cell_type": "code",
      "metadata": {
        "colab": {
          "base_uri": "https://localhost:8080/"
        },
        "id": "3w0FrlnrCi6b",
        "outputId": "a78dbb61-cb80-4084-ab90-96c8d9d5d842"
      },
      "source": [
        "from google.colab import drive\n",
        "drive.mount('/content/drive')"
      ],
      "execution_count": 1,
      "outputs": [
        {
          "output_type": "stream",
          "text": [
            "Mounted at /content/drive\n"
          ],
          "name": "stdout"
        }
      ]
    },
    {
      "cell_type": "code",
      "metadata": {
        "id": "3nyAm7oxCorh"
      },
      "source": [
        "import os\n",
        "os.chdir('drive/MyDrive')"
      ],
      "execution_count": 3,
      "outputs": []
    },
    {
      "cell_type": "code",
      "metadata": {
        "id": "G0ijtzbrDRDe"
      },
      "source": [
        "!pip install -r requirements.txt"
      ],
      "execution_count": null,
      "outputs": []
    },
    {
      "cell_type": "markdown",
      "metadata": {
        "id": "dVwzARaIuVV2"
      },
      "source": [
        "###Demo\n",
        "For demo run the inpainting_demo.py script with path to config file, path to checkpoint file, input image path, input mask path and output image path as arguments\n"
      ]
    },
    {
      "cell_type": "code",
      "metadata": {
        "id": "nt9ctW9UCtRd"
      },
      "source": [
        "!python3 demo/inpainting_demo.py configs/inpainting/deepfillv2/deepfillv2_256x256_8x2_places.py checkpoint/deepfillv2_256x256_8x2_places_20200619-10d15793.pth ../../../park4out.jpg ../../../park4mask.jpg ../../../out.jpg"
      ],
      "execution_count": null,
      "outputs": []
    },
    {
      "cell_type": "markdown",
      "metadata": {
        "id": "L6BZcFxVuHd_"
      },
      "source": [
        "###Training\n",
        "Run the train.py script with the path of configuration file as argument"
      ]
    },
    {
      "cell_type": "code",
      "metadata": {
        "id": "qg225VklCwQi"
      },
      "source": [
        "!python tools/train.py configs/inpainting/deepfillv2/deepfillv2_256x256_8x2_places.py "
      ],
      "execution_count": null,
      "outputs": []
    },
    {
      "cell_type": "code",
      "metadata": {
        "id": "TbH9KCZSC0J1"
      },
      "source": [
        "%reload_ext tensorboard\n",
        "%tensorboard --logdir checkpoint/tf_logs"
      ],
      "execution_count": null,
      "outputs": []
    },
    {
      "cell_type": "code",
      "metadata": {
        "id": "YSBOiFoMIt9V"
      },
      "source": [
        ""
      ],
      "execution_count": null,
      "outputs": []
    }
  ]
}